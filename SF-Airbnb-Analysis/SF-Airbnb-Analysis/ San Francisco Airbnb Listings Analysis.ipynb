{
 "cells": [
  {
   "cell_type": "markdown",
   "metadata": {},
   "source": [
    "# SF Airbnb Open-Data Exploratory Analysis"
   ]
  },
  {
   "cell_type": "markdown",
   "metadata": {},
   "source": [
    "In this project, we will be taking a look at recent Airbnb listings in San Francisco and drawing some insights as we explore this dataset. Airbnb is an online marketplace where users can host and book lodging all over the world. Airbnb has 7 million listings worldwide in over 100,000 cities.\n",
    "\n",
    "We will explore dataset and hopefully be able to identify several key strategic recommendations for the lodging rental market. Some questions we'll ask along the way are:\n",
    "\n",
    " - Which neighborhoods have the most rentals?\n",
    " - Which type of rentals are most popular?\n",
    " - What is the average price of a rental?\n",
    " - Are any hosts in violation of local ordinances or laws?"
   ]
  },
  {
   "cell_type": "markdown",
   "metadata": {},
   "source": [
    "# Explore San Francisco Airbnb Dataset "
   ]
  },
  {
   "cell_type": "markdown",
   "metadata": {},
   "source": [
    "The dataset we will be using is from: http://insideairbnb.com. Inside Airbnb is a website that publishes web-scraped data from Airbnb. In our analysis, we will be using a dataset containing \"summary information and metrics for listings in San Francisco\" from October 14, 2019. "
   ]
  },
  {
   "cell_type": "code",
   "execution_count": 1,
   "metadata": {},
   "outputs": [],
   "source": [
    "#import relevant libraries\n",
    "import pandas as pd\n",
    "import numpy as np\n",
    "import matplotlib.pyplot as plt\n",
    "import seaborn as sns\n",
    "%matplotlib inline"
   ]
  },
  {
   "cell_type": "code",
   "execution_count": 2,
   "metadata": {},
   "outputs": [
    {
     "name": "stdout",
     "output_type": "stream",
     "text": [
      "<class 'pandas.core.frame.DataFrame'>\n",
      "RangeIndex: 8111 entries, 0 to 8110\n",
      "Data columns (total 16 columns):\n",
      "id                                8111 non-null int64\n",
      "name                              8111 non-null object\n",
      "host_id                           8111 non-null int64\n",
      "host_name                         8103 non-null object\n",
      "neighbourhood_group               0 non-null float64\n",
      "neighbourhood                     8111 non-null object\n",
      "latitude                          8111 non-null float64\n",
      "longitude                         8111 non-null float64\n",
      "room_type                         8111 non-null object\n",
      "price                             8111 non-null int64\n",
      "minimum_nights                    8111 non-null int64\n",
      "number_of_reviews                 8111 non-null int64\n",
      "last_review                       6506 non-null object\n",
      "reviews_per_month                 6506 non-null float64\n",
      "calculated_host_listings_count    8111 non-null int64\n",
      "availability_365                  8111 non-null int64\n",
      "dtypes: float64(4), int64(7), object(5)\n",
      "memory usage: 1014.0+ KB\n",
      "(8111, 16)\n"
     ]
    }
   ],
   "source": [
    "#read in csv\n",
    "sf = pd.read_csv('SF_Airbnb_2019.csv')\n",
    "sf.info()\n",
    "print(sf.shape)"
   ]
  },
  {
   "cell_type": "code",
   "execution_count": 3,
   "metadata": {},
   "outputs": [
    {
     "data": {
      "text/html": [
       "<div>\n",
       "<style scoped>\n",
       "    .dataframe tbody tr th:only-of-type {\n",
       "        vertical-align: middle;\n",
       "    }\n",
       "\n",
       "    .dataframe tbody tr th {\n",
       "        vertical-align: top;\n",
       "    }\n",
       "\n",
       "    .dataframe thead th {\n",
       "        text-align: right;\n",
       "    }\n",
       "</style>\n",
       "<table border=\"1\" class=\"dataframe\">\n",
       "  <thead>\n",
       "    <tr style=\"text-align: right;\">\n",
       "      <th></th>\n",
       "      <th>id</th>\n",
       "      <th>name</th>\n",
       "      <th>host_id</th>\n",
       "      <th>host_name</th>\n",
       "      <th>neighbourhood_group</th>\n",
       "      <th>neighbourhood</th>\n",
       "      <th>latitude</th>\n",
       "      <th>longitude</th>\n",
       "      <th>room_type</th>\n",
       "      <th>price</th>\n",
       "      <th>minimum_nights</th>\n",
       "      <th>number_of_reviews</th>\n",
       "      <th>last_review</th>\n",
       "      <th>reviews_per_month</th>\n",
       "      <th>calculated_host_listings_count</th>\n",
       "      <th>availability_365</th>\n",
       "    </tr>\n",
       "  </thead>\n",
       "  <tbody>\n",
       "    <tr>\n",
       "      <th>0</th>\n",
       "      <td>958</td>\n",
       "      <td>Bright, Modern Garden Unit - 1BR/1B</td>\n",
       "      <td>1169</td>\n",
       "      <td>Holly</td>\n",
       "      <td>NaN</td>\n",
       "      <td>Western Addition</td>\n",
       "      <td>37.76931</td>\n",
       "      <td>-122.43386</td>\n",
       "      <td>Entire home/apt</td>\n",
       "      <td>170</td>\n",
       "      <td>1</td>\n",
       "      <td>217</td>\n",
       "      <td>2019-09-21</td>\n",
       "      <td>1.74</td>\n",
       "      <td>1</td>\n",
       "      <td>85</td>\n",
       "    </tr>\n",
       "    <tr>\n",
       "      <th>1</th>\n",
       "      <td>3850</td>\n",
       "      <td>Charming room for two</td>\n",
       "      <td>4921</td>\n",
       "      <td>Kevin</td>\n",
       "      <td>NaN</td>\n",
       "      <td>Inner Sunset</td>\n",
       "      <td>37.75402</td>\n",
       "      <td>-122.45805</td>\n",
       "      <td>Private room</td>\n",
       "      <td>99</td>\n",
       "      <td>1</td>\n",
       "      <td>160</td>\n",
       "      <td>2019-09-30</td>\n",
       "      <td>1.28</td>\n",
       "      <td>3</td>\n",
       "      <td>62</td>\n",
       "    </tr>\n",
       "    <tr>\n",
       "      <th>2</th>\n",
       "      <td>5858</td>\n",
       "      <td>Creative Sanctuary</td>\n",
       "      <td>8904</td>\n",
       "      <td>Philip And Tania</td>\n",
       "      <td>NaN</td>\n",
       "      <td>Bernal Heights</td>\n",
       "      <td>37.74511</td>\n",
       "      <td>-122.42102</td>\n",
       "      <td>Entire home/apt</td>\n",
       "      <td>235</td>\n",
       "      <td>30</td>\n",
       "      <td>111</td>\n",
       "      <td>2017-08-06</td>\n",
       "      <td>0.87</td>\n",
       "      <td>1</td>\n",
       "      <td>0</td>\n",
       "    </tr>\n",
       "  </tbody>\n",
       "</table>\n",
       "</div>"
      ],
      "text/plain": [
       "     id                                 name  host_id         host_name  \\\n",
       "0   958  Bright, Modern Garden Unit - 1BR/1B     1169             Holly   \n",
       "1  3850                Charming room for two     4921             Kevin   \n",
       "2  5858                   Creative Sanctuary     8904  Philip And Tania   \n",
       "\n",
       "   neighbourhood_group     neighbourhood  latitude  longitude  \\\n",
       "0                  NaN  Western Addition  37.76931 -122.43386   \n",
       "1                  NaN      Inner Sunset  37.75402 -122.45805   \n",
       "2                  NaN    Bernal Heights  37.74511 -122.42102   \n",
       "\n",
       "         room_type  price  minimum_nights  number_of_reviews last_review  \\\n",
       "0  Entire home/apt    170               1                217  2019-09-21   \n",
       "1     Private room     99               1                160  2019-09-30   \n",
       "2  Entire home/apt    235              30                111  2017-08-06   \n",
       "\n",
       "   reviews_per_month  calculated_host_listings_count  availability_365  \n",
       "0               1.74                               1                85  \n",
       "1               1.28                               3                62  \n",
       "2               0.87                               1                 0  "
      ]
     },
     "execution_count": 3,
     "metadata": {},
     "output_type": "execute_result"
    }
   ],
   "source": [
    "#preview several columns\n",
    "sf.head(3)"
   ]
  },
  {
   "cell_type": "code",
   "execution_count": 4,
   "metadata": {},
   "outputs": [],
   "source": [
    "#remove neighbourhood_group column - provides no pertinent information\n",
    "sf = sf.drop(['neighbourhood_group'], axis = 1)\n",
    "\n",
    "#rename the neighbourhood column to American English\n",
    "sf.rename({'neighbourhood': 'neighborhood'}, axis = 1, inplace=True)"
   ]
  },
  {
   "cell_type": "code",
   "execution_count": 5,
   "metadata": {},
   "outputs": [
    {
     "data": {
      "text/plain": [
       "no name    8\n",
       "Name: host_name, dtype: int64"
      ]
     },
     "execution_count": 5,
     "metadata": {},
     "output_type": "execute_result"
    }
   ],
   "source": [
    "#host name has 8 null values\n",
    "#replace null values with \"no name\"\n",
    "sf['host_name'].fillna('no name', inplace=True)\n",
    "\n",
    "#verify it's done\n",
    "sf[sf['host_name'] == 'no name']['host_name'].value_counts()"
   ]
  },
  {
   "cell_type": "code",
   "execution_count": 6,
   "metadata": {
    "scrolled": true
   },
   "outputs": [
    {
     "data": {
      "text/html": [
       "<div>\n",
       "<style scoped>\n",
       "    .dataframe tbody tr th:only-of-type {\n",
       "        vertical-align: middle;\n",
       "    }\n",
       "\n",
       "    .dataframe tbody tr th {\n",
       "        vertical-align: top;\n",
       "    }\n",
       "\n",
       "    .dataframe thead th {\n",
       "        text-align: right;\n",
       "    }\n",
       "</style>\n",
       "<table border=\"1\" class=\"dataframe\">\n",
       "  <thead>\n",
       "    <tr style=\"text-align: right;\">\n",
       "      <th></th>\n",
       "      <th>id</th>\n",
       "      <th>host_id</th>\n",
       "      <th>latitude</th>\n",
       "      <th>longitude</th>\n",
       "      <th>price</th>\n",
       "      <th>minimum_nights</th>\n",
       "      <th>number_of_reviews</th>\n",
       "      <th>reviews_per_month</th>\n",
       "      <th>calculated_host_listings_count</th>\n",
       "      <th>availability_365</th>\n",
       "    </tr>\n",
       "  </thead>\n",
       "  <tbody>\n",
       "    <tr>\n",
       "      <th>count</th>\n",
       "      <td>8111</td>\n",
       "      <td>8111</td>\n",
       "      <td>8111</td>\n",
       "      <td>8111</td>\n",
       "      <td>8111</td>\n",
       "      <td>8111</td>\n",
       "      <td>8111</td>\n",
       "      <td>6506</td>\n",
       "      <td>8111</td>\n",
       "      <td>8111</td>\n",
       "    </tr>\n",
       "    <tr>\n",
       "      <th>mean</th>\n",
       "      <td>20245608</td>\n",
       "      <td>61596904</td>\n",
       "      <td>37</td>\n",
       "      <td>-122</td>\n",
       "      <td>225</td>\n",
       "      <td>12345</td>\n",
       "      <td>45</td>\n",
       "      <td>1</td>\n",
       "      <td>22</td>\n",
       "      <td>159</td>\n",
       "    </tr>\n",
       "    <tr>\n",
       "      <th>std</th>\n",
       "      <td>12285654</td>\n",
       "      <td>80174166</td>\n",
       "      <td>0</td>\n",
       "      <td>0</td>\n",
       "      <td>412</td>\n",
       "      <td>1110357</td>\n",
       "      <td>78</td>\n",
       "      <td>2</td>\n",
       "      <td>54</td>\n",
       "      <td>134</td>\n",
       "    </tr>\n",
       "    <tr>\n",
       "      <th>min</th>\n",
       "      <td>958</td>\n",
       "      <td>28</td>\n",
       "      <td>37</td>\n",
       "      <td>-122</td>\n",
       "      <td>0</td>\n",
       "      <td>1</td>\n",
       "      <td>0</td>\n",
       "      <td>0</td>\n",
       "      <td>1</td>\n",
       "      <td>0</td>\n",
       "    </tr>\n",
       "    <tr>\n",
       "      <th>25%</th>\n",
       "      <td>8905668</td>\n",
       "      <td>4386571</td>\n",
       "      <td>37</td>\n",
       "      <td>-122</td>\n",
       "      <td>100</td>\n",
       "      <td>2</td>\n",
       "      <td>1</td>\n",
       "      <td>0</td>\n",
       "      <td>1</td>\n",
       "      <td>28</td>\n",
       "    </tr>\n",
       "    <tr>\n",
       "      <th>50%</th>\n",
       "      <td>21610572</td>\n",
       "      <td>21789834</td>\n",
       "      <td>37</td>\n",
       "      <td>-122</td>\n",
       "      <td>150</td>\n",
       "      <td>4</td>\n",
       "      <td>10</td>\n",
       "      <td>1</td>\n",
       "      <td>2</td>\n",
       "      <td>133</td>\n",
       "    </tr>\n",
       "    <tr>\n",
       "      <th>75%</th>\n",
       "      <td>31200253</td>\n",
       "      <td>100076316</td>\n",
       "      <td>37</td>\n",
       "      <td>-122</td>\n",
       "      <td>240</td>\n",
       "      <td>30</td>\n",
       "      <td>54</td>\n",
       "      <td>2</td>\n",
       "      <td>10</td>\n",
       "      <td>300</td>\n",
       "    </tr>\n",
       "    <tr>\n",
       "      <th>max</th>\n",
       "      <td>39354181</td>\n",
       "      <td>301675867</td>\n",
       "      <td>37</td>\n",
       "      <td>-122</td>\n",
       "      <td>10000</td>\n",
       "      <td>100000000</td>\n",
       "      <td>757</td>\n",
       "      <td>21</td>\n",
       "      <td>248</td>\n",
       "      <td>365</td>\n",
       "    </tr>\n",
       "  </tbody>\n",
       "</table>\n",
       "</div>"
      ],
      "text/plain": [
       "             id    host_id  latitude  longitude  price  minimum_nights  \\\n",
       "count      8111       8111      8111       8111   8111            8111   \n",
       "mean   20245608   61596904        37       -122    225           12345   \n",
       "std    12285654   80174166         0          0    412         1110357   \n",
       "min         958         28        37       -122      0               1   \n",
       "25%     8905668    4386571        37       -122    100               2   \n",
       "50%    21610572   21789834        37       -122    150               4   \n",
       "75%    31200253  100076316        37       -122    240              30   \n",
       "max    39354181  301675867        37       -122  10000       100000000   \n",
       "\n",
       "       number_of_reviews  reviews_per_month  calculated_host_listings_count  \\\n",
       "count               8111               6506                            8111   \n",
       "mean                  45                  1                              22   \n",
       "std                   78                  2                              54   \n",
       "min                    0                  0                               1   \n",
       "25%                    1                  0                               1   \n",
       "50%                   10                  1                               2   \n",
       "75%                   54                  2                              10   \n",
       "max                  757                 21                             248   \n",
       "\n",
       "       availability_365  \n",
       "count              8111  \n",
       "mean                159  \n",
       "std                 134  \n",
       "min                   0  \n",
       "25%                  28  \n",
       "50%                 133  \n",
       "75%                 300  \n",
       "max                 365  "
      ]
     },
     "execution_count": 6,
     "metadata": {},
     "output_type": "execute_result"
    }
   ],
   "source": [
    "#view several descriptive statistics on this dataset\n",
    "sf.describe().astype('int64')"
   ]
  },
  {
   "cell_type": "markdown",
   "metadata": {},
   "source": [
    "From looking at summary statistics, it seems like there might be some outliers in certain values of the listings. We should dig a bit deeper into listings with these particular features:\n",
    "\n",
    " - upper end of minimum nights \n",
    " - upper end of the price of a rental\n",
    " - lower end of the price of a rental"
   ]
  },
  {
   "cell_type": "markdown",
   "metadata": {},
   "source": [
    "# Outliers in Airbnb Listings"
   ]
  },
  {
   "cell_type": "code",
   "execution_count": 7,
   "metadata": {
    "scrolled": true
   },
   "outputs": [
    {
     "data": {
      "text/plain": [
       "100000000    1\n",
       "1125         1\n",
       "1000         1\n",
       "365          9\n",
       "360          3\n",
       "Name: minimum_nights, dtype: int64"
      ]
     },
     "execution_count": 7,
     "metadata": {},
     "output_type": "execute_result"
    }
   ],
   "source": [
    "#view outliers for minimum nights\n",
    "sf['minimum_nights'].value_counts().sort_index(ascending=False).head()"
   ]
  },
  {
   "cell_type": "code",
   "execution_count": 8,
   "metadata": {},
   "outputs": [
    {
     "data": {
      "text/plain": [
       "365    9\n",
       "360    3\n",
       "200    1\n",
       "188    1\n",
       "183    3\n",
       "Name: minimum_nights, dtype: int64"
      ]
     },
     "execution_count": 8,
     "metadata": {},
     "output_type": "execute_result"
    }
   ],
   "source": [
    "#Drop the listings where min nights is over 365 days, they do not appear to be active listings\n",
    "\n",
    "#create an index for rows we're dropping\n",
    "index = sf[sf['minimum_nights'] > 365].index\n",
    "\n",
    "#drop the rows\n",
    "sf.drop(index, axis = 0, inplace = True)\n",
    "\n",
    "#check if rows were dropped\n",
    "sf['minimum_nights'].value_counts().sort_index(ascending=False).head()"
   ]
  },
  {
   "cell_type": "code",
   "execution_count": 9,
   "metadata": {},
   "outputs": [
    {
     "data": {
      "text/plain": [
       "10000    7\n",
       "9999     1\n",
       "8000     1\n",
       "7500     1\n",
       "5000     1\n",
       "27       1\n",
       "20       2\n",
       "19       4\n",
       "10       3\n",
       "0        1\n",
       "Name: price, dtype: int64"
      ]
     },
     "execution_count": 9,
     "metadata": {},
     "output_type": "execute_result"
    }
   ],
   "source": [
    "#view price outliers\n",
    "head = sf['price'].value_counts().sort_index(ascending=False).head()\n",
    "tail = sf['price'].value_counts().sort_index(ascending=False).tail()\n",
    "pd.concat([head, tail])"
   ]
  },
  {
   "cell_type": "code",
   "execution_count": 10,
   "metadata": {
    "scrolled": true
   },
   "outputs": [
    {
     "data": {
      "text/html": [
       "<div>\n",
       "<style scoped>\n",
       "    .dataframe tbody tr th:only-of-type {\n",
       "        vertical-align: middle;\n",
       "    }\n",
       "\n",
       "    .dataframe tbody tr th {\n",
       "        vertical-align: top;\n",
       "    }\n",
       "\n",
       "    .dataframe thead th {\n",
       "        text-align: right;\n",
       "    }\n",
       "</style>\n",
       "<table border=\"1\" class=\"dataframe\">\n",
       "  <thead>\n",
       "    <tr style=\"text-align: right;\">\n",
       "      <th></th>\n",
       "      <th>id</th>\n",
       "      <th>name</th>\n",
       "      <th>host_id</th>\n",
       "      <th>host_name</th>\n",
       "      <th>neighborhood</th>\n",
       "      <th>latitude</th>\n",
       "      <th>longitude</th>\n",
       "      <th>room_type</th>\n",
       "      <th>price</th>\n",
       "      <th>minimum_nights</th>\n",
       "      <th>number_of_reviews</th>\n",
       "      <th>last_review</th>\n",
       "      <th>reviews_per_month</th>\n",
       "      <th>calculated_host_listings_count</th>\n",
       "      <th>availability_365</th>\n",
       "    </tr>\n",
       "  </thead>\n",
       "  <tbody>\n",
       "    <tr>\n",
       "      <th>3752</th>\n",
       "      <td>20331804</td>\n",
       "      <td>Comfortable Victorian Bedroom in Mission</td>\n",
       "      <td>17536951</td>\n",
       "      <td>Rob</td>\n",
       "      <td>Bernal Heights</td>\n",
       "      <td>37.74479</td>\n",
       "      <td>-122.41977</td>\n",
       "      <td>Private room</td>\n",
       "      <td>0</td>\n",
       "      <td>4</td>\n",
       "      <td>32</td>\n",
       "      <td>2019-09-15</td>\n",
       "      <td>1.26</td>\n",
       "      <td>4</td>\n",
       "      <td>0</td>\n",
       "    </tr>\n",
       "    <tr>\n",
       "      <th>7345</th>\n",
       "      <td>36185102</td>\n",
       "      <td>Nob Hill Hotel, Double Deluxe</td>\n",
       "      <td>270304885</td>\n",
       "      <td>Nob Hill</td>\n",
       "      <td>Downtown/Civic Center</td>\n",
       "      <td>37.78898</td>\n",
       "      <td>-122.41659</td>\n",
       "      <td>Private room</td>\n",
       "      <td>10000</td>\n",
       "      <td>1</td>\n",
       "      <td>0</td>\n",
       "      <td>NaN</td>\n",
       "      <td>NaN</td>\n",
       "      <td>7</td>\n",
       "      <td>347</td>\n",
       "    </tr>\n",
       "    <tr>\n",
       "      <th>7346</th>\n",
       "      <td>36185260</td>\n",
       "      <td>Nob Hill Hotel, King Deluxe</td>\n",
       "      <td>270304885</td>\n",
       "      <td>Nob Hill</td>\n",
       "      <td>Nob Hill</td>\n",
       "      <td>37.79240</td>\n",
       "      <td>-122.42060</td>\n",
       "      <td>Private room</td>\n",
       "      <td>10000</td>\n",
       "      <td>1</td>\n",
       "      <td>0</td>\n",
       "      <td>NaN</td>\n",
       "      <td>NaN</td>\n",
       "      <td>7</td>\n",
       "      <td>347</td>\n",
       "    </tr>\n",
       "    <tr>\n",
       "      <th>7347</th>\n",
       "      <td>36185321</td>\n",
       "      <td>Nob Hill Hotel, Double Plus</td>\n",
       "      <td>270304885</td>\n",
       "      <td>Nob Hill</td>\n",
       "      <td>Nob Hill</td>\n",
       "      <td>37.79404</td>\n",
       "      <td>-122.42202</td>\n",
       "      <td>Private room</td>\n",
       "      <td>10000</td>\n",
       "      <td>1</td>\n",
       "      <td>0</td>\n",
       "      <td>NaN</td>\n",
       "      <td>NaN</td>\n",
       "      <td>7</td>\n",
       "      <td>339</td>\n",
       "    </tr>\n",
       "    <tr>\n",
       "      <th>7348</th>\n",
       "      <td>36185365</td>\n",
       "      <td>Nob Hill Hotel, Victorian Suite</td>\n",
       "      <td>270304885</td>\n",
       "      <td>Nob Hill</td>\n",
       "      <td>Nob Hill</td>\n",
       "      <td>37.79196</td>\n",
       "      <td>-122.42184</td>\n",
       "      <td>Private room</td>\n",
       "      <td>10000</td>\n",
       "      <td>1</td>\n",
       "      <td>0</td>\n",
       "      <td>NaN</td>\n",
       "      <td>NaN</td>\n",
       "      <td>7</td>\n",
       "      <td>295</td>\n",
       "    </tr>\n",
       "    <tr>\n",
       "      <th>7349</th>\n",
       "      <td>36185403</td>\n",
       "      <td>Nob Hill Hotel, Garden Suite</td>\n",
       "      <td>270304885</td>\n",
       "      <td>Nob Hill</td>\n",
       "      <td>Nob Hill</td>\n",
       "      <td>37.79396</td>\n",
       "      <td>-122.42200</td>\n",
       "      <td>Private room</td>\n",
       "      <td>10000</td>\n",
       "      <td>1</td>\n",
       "      <td>0</td>\n",
       "      <td>NaN</td>\n",
       "      <td>NaN</td>\n",
       "      <td>7</td>\n",
       "      <td>317</td>\n",
       "    </tr>\n",
       "    <tr>\n",
       "      <th>7350</th>\n",
       "      <td>36185434</td>\n",
       "      <td>Nob Hill Hotel, Business Suite</td>\n",
       "      <td>270304885</td>\n",
       "      <td>Nob Hill</td>\n",
       "      <td>Nob Hill</td>\n",
       "      <td>37.79334</td>\n",
       "      <td>-122.42046</td>\n",
       "      <td>Private room</td>\n",
       "      <td>10000</td>\n",
       "      <td>1</td>\n",
       "      <td>0</td>\n",
       "      <td>NaN</td>\n",
       "      <td>NaN</td>\n",
       "      <td>7</td>\n",
       "      <td>307</td>\n",
       "    </tr>\n",
       "    <tr>\n",
       "      <th>7351</th>\n",
       "      <td>36185495</td>\n",
       "      <td>Nob Hill Hotel, Penthouse Suite</td>\n",
       "      <td>270304885</td>\n",
       "      <td>Nob Hill</td>\n",
       "      <td>Nob Hill</td>\n",
       "      <td>37.79341</td>\n",
       "      <td>-122.42051</td>\n",
       "      <td>Private room</td>\n",
       "      <td>10000</td>\n",
       "      <td>1</td>\n",
       "      <td>0</td>\n",
       "      <td>NaN</td>\n",
       "      <td>NaN</td>\n",
       "      <td>7</td>\n",
       "      <td>327</td>\n",
       "    </tr>\n",
       "  </tbody>\n",
       "</table>\n",
       "</div>"
      ],
      "text/plain": [
       "            id                                      name    host_id host_name  \\\n",
       "3752  20331804  Comfortable Victorian Bedroom in Mission   17536951       Rob   \n",
       "7345  36185102             Nob Hill Hotel, Double Deluxe  270304885  Nob Hill   \n",
       "7346  36185260               Nob Hill Hotel, King Deluxe  270304885  Nob Hill   \n",
       "7347  36185321               Nob Hill Hotel, Double Plus  270304885  Nob Hill   \n",
       "7348  36185365           Nob Hill Hotel, Victorian Suite  270304885  Nob Hill   \n",
       "7349  36185403              Nob Hill Hotel, Garden Suite  270304885  Nob Hill   \n",
       "7350  36185434            Nob Hill Hotel, Business Suite  270304885  Nob Hill   \n",
       "7351  36185495           Nob Hill Hotel, Penthouse Suite  270304885  Nob Hill   \n",
       "\n",
       "               neighborhood  latitude  longitude     room_type  price  \\\n",
       "3752         Bernal Heights  37.74479 -122.41977  Private room      0   \n",
       "7345  Downtown/Civic Center  37.78898 -122.41659  Private room  10000   \n",
       "7346               Nob Hill  37.79240 -122.42060  Private room  10000   \n",
       "7347               Nob Hill  37.79404 -122.42202  Private room  10000   \n",
       "7348               Nob Hill  37.79196 -122.42184  Private room  10000   \n",
       "7349               Nob Hill  37.79396 -122.42200  Private room  10000   \n",
       "7350               Nob Hill  37.79334 -122.42046  Private room  10000   \n",
       "7351               Nob Hill  37.79341 -122.42051  Private room  10000   \n",
       "\n",
       "      minimum_nights  number_of_reviews last_review  reviews_per_month  \\\n",
       "3752               4                 32  2019-09-15               1.26   \n",
       "7345               1                  0         NaN                NaN   \n",
       "7346               1                  0         NaN                NaN   \n",
       "7347               1                  0         NaN                NaN   \n",
       "7348               1                  0         NaN                NaN   \n",
       "7349               1                  0         NaN                NaN   \n",
       "7350               1                  0         NaN                NaN   \n",
       "7351               1                  0         NaN                NaN   \n",
       "\n",
       "      calculated_host_listings_count  availability_365  \n",
       "3752                               4                 0  \n",
       "7345                               7               347  \n",
       "7346                               7               347  \n",
       "7347                               7               339  \n",
       "7348                               7               295  \n",
       "7349                               7               317  \n",
       "7350                               7               307  \n",
       "7351                               7               327  "
      ]
     },
     "execution_count": 10,
     "metadata": {},
     "output_type": "execute_result"
    }
   ],
   "source": [
    "#view outliers for $0 Airbnb listings\n",
    "sf[(sf['price'] == 0) | (sf['price'] == 10000)]"
   ]
  },
  {
   "cell_type": "code",
   "execution_count": 11,
   "metadata": {},
   "outputs": [
    {
     "data": {
      "text/html": [
       "<div>\n",
       "<style scoped>\n",
       "    .dataframe tbody tr th:only-of-type {\n",
       "        vertical-align: middle;\n",
       "    }\n",
       "\n",
       "    .dataframe tbody tr th {\n",
       "        vertical-align: top;\n",
       "    }\n",
       "\n",
       "    .dataframe thead th {\n",
       "        text-align: right;\n",
       "    }\n",
       "</style>\n",
       "<table border=\"1\" class=\"dataframe\">\n",
       "  <thead>\n",
       "    <tr style=\"text-align: right;\">\n",
       "      <th></th>\n",
       "      <th>id</th>\n",
       "      <th>name</th>\n",
       "      <th>host_id</th>\n",
       "      <th>host_name</th>\n",
       "      <th>neighborhood</th>\n",
       "      <th>latitude</th>\n",
       "      <th>longitude</th>\n",
       "      <th>room_type</th>\n",
       "      <th>price</th>\n",
       "      <th>minimum_nights</th>\n",
       "      <th>number_of_reviews</th>\n",
       "      <th>last_review</th>\n",
       "      <th>reviews_per_month</th>\n",
       "      <th>calculated_host_listings_count</th>\n",
       "      <th>availability_365</th>\n",
       "    </tr>\n",
       "  </thead>\n",
       "  <tbody>\n",
       "    <tr>\n",
       "      <th>3752</th>\n",
       "      <td>20331804</td>\n",
       "      <td>Comfortable Victorian Bedroom in Mission</td>\n",
       "      <td>17536951</td>\n",
       "      <td>Rob</td>\n",
       "      <td>Bernal Heights</td>\n",
       "      <td>37.74479</td>\n",
       "      <td>-122.41977</td>\n",
       "      <td>Private room</td>\n",
       "      <td>100</td>\n",
       "      <td>4</td>\n",
       "      <td>32</td>\n",
       "      <td>2019-09-15</td>\n",
       "      <td>1.26</td>\n",
       "      <td>4</td>\n",
       "      <td>0</td>\n",
       "    </tr>\n",
       "  </tbody>\n",
       "</table>\n",
       "</div>"
      ],
      "text/plain": [
       "            id                                      name   host_id host_name  \\\n",
       "3752  20331804  Comfortable Victorian Bedroom in Mission  17536951       Rob   \n",
       "\n",
       "        neighborhood  latitude  longitude     room_type  price  \\\n",
       "3752  Bernal Heights  37.74479 -122.41977  Private room    100   \n",
       "\n",
       "      minimum_nights  number_of_reviews last_review  reviews_per_month  \\\n",
       "3752               4                 32  2019-09-15               1.26   \n",
       "\n",
       "      calculated_host_listings_count  availability_365  \n",
       "3752                               4                 0  "
      ]
     },
     "execution_count": 11,
     "metadata": {},
     "output_type": "execute_result"
    }
   ],
   "source": [
    "#Update the price to actual price($100) found on Airbnb: https://www.airbnb.com/rooms/20331804\n",
    "sf['price'] = sf['price'].replace(0, 100)\n",
    "sf[sf['id'] == 20331804]"
   ]
  },
  {
   "cell_type": "markdown",
   "metadata": {},
   "source": [
    "We successfully removed 3 listings where the minimum stay were 100000000, 1125, and 1000 nights - these listings seem impossible and are also not active. \n",
    "\n",
    "After looking at the maximum and minimum price-per-nights, which were suspicious, we identified that the high-end of \\\\$10,000 is definitely a real price at a hotel in San Francisco. This was confirmed by several articles written on expensive Airbnbs. After verifying, the \\\\$0 listing was actually priced at \\\\$100. "
   ]
  },
  {
   "cell_type": "markdown",
   "metadata": {},
   "source": [
    "# Most Common Listings"
   ]
  },
  {
   "cell_type": "code",
   "execution_count": 20,
   "metadata": {},
   "outputs": [
    {
     "data": {
      "image/png": "[encoded data removed]",
      "text/plain": [
       "<Figure size 864x576 with 1 Axes>"
      ]
     },
     "metadata": {},
     "output_type": "display_data"
    }
   ],
   "source": [
    "#Lets see how the listings are distributed amongst the neighborhoods\n",
    "neighborhood_dist = sf['neighborhood'].value_counts(normalize=True)*100\n",
    "\n",
    "#plot the distribution\n",
    "\n",
    "#create an \"other\" category for the neighborhoods with smallest percentages\n",
    "threshold = 1\n",
    "mask = neighborhood_dist > threshold\n",
    "other = neighborhood_dist[~mask].sum()\n",
    "other_count = neighborhood_dist[~mask].count()\n",
    "dist = neighborhood_dist[mask]\n",
    "dist[\"Other {} neighborhoods\".format(other_count)] = other\n",
    "\n",
    "#plot the distributions\n",
    "dist.plot(kind = 'barh', figsize = (12,8))\n",
    "plt.title('San Francisco Airbnb Listings By Neighborhood ')\n",
    "plt.xlabel('Percent')\n",
    "plt.ylabel('Neighborhood')\n",
    "plt.gca().invert_yaxis()\n",
    "plt.show()"
   ]
  },
  {
   "cell_type": "code",
   "execution_count": 21,
   "metadata": {},
   "outputs": [],
   "source": [
    "#Visual map of San Francisco and Listings"
   ]
  },
  {
   "cell_type": "code",
   "execution_count": 13,
   "metadata": {},
   "outputs": [
    {
     "data": {
      "image/png": "[encoded data removed]",
      "text/plain": [
       "<Figure size 360x360 with 1 Axes>"
      ]
     },
     "metadata": {
      "needs_background": "light"
     },
     "output_type": "display_data"
    }
   ],
   "source": [
    "#Most common types of rentals\n",
    "room_dist = sf['room_type'].value_counts(dropna=False,normalize=True)*100\n",
    "\n",
    "#plot the distribution\n",
    "fig = room_dist.plot(kind = 'barh', figsize = (5,5))\n",
    "plt.title('Room Types in San Francisco ')\n",
    "plt.xlabel('Percent')\n",
    "plt.ylabel('Room Type')\n",
    "fig.invert_yaxis()\n",
    "plt.show()"
   ]
  },
  {
   "cell_type": "code",
   "execution_count": 14,
   "metadata": {},
   "outputs": [
    {
     "name": "stdout",
     "output_type": "stream",
     "text": [
      "2.48% of listings in San Francisco are over $800.\n"
     ]
    }
   ],
   "source": [
    "#Determine Percentage of Prices are Greater than Threshold Price\n",
    "threshold = 800\n",
    "outliers = sf[sf['price'] > threshold]['price'].value_counts().sum()\n",
    "percentage = round(outliers/len(sf)*100, 2)\n",
    "\n",
    "print(\"{}% of listings in San Francisco are over ${}.\".format(percentage, threshold))"
   ]
  },
  {
   "cell_type": "code",
   "execution_count": 15,
   "metadata": {},
   "outputs": [
    {
     "data": {
      "text/plain": [
       "<matplotlib.axes._subplots.AxesSubplot at 0x1a1f5042e8>"
      ]
     },
     "execution_count": 15,
     "metadata": {},
     "output_type": "execute_result"
    },
    {
     "data": {
      "image/png": "[encoded data removed]",
      "text/plain": [
       "<Figure size 432x288 with 1 Axes>"
      ]
     },
     "metadata": {
      "needs_background": "light"
     },
     "output_type": "display_data"
    }
   ],
   "source": [
    "#Histogram of Prices\n",
    "\n",
    "sf_under_1k = sf[sf['price'] <= threshold]\n",
    "sns.distplot(sf_under_1k['price'])"
   ]
  },
  {
   "cell_type": "markdown",
   "metadata": {},
   "source": [
    "# Are There Any Major Correlations?"
   ]
  },
  {
   "cell_type": "code",
   "execution_count": 16,
   "metadata": {},
   "outputs": [
    {
     "data": {
      "text/plain": [
       "Entire home/apt    4771\n",
       "Private room       2889\n",
       "Shared room         241\n",
       "Hotel room          207\n",
       "Name: room_type, dtype: int64"
      ]
     },
     "execution_count": 16,
     "metadata": {},
     "output_type": "execute_result"
    }
   ],
   "source": [
    "\n",
    "sf['room_type'].value_counts()"
   ]
  },
  {
   "cell_type": "code",
   "execution_count": 17,
   "metadata": {},
   "outputs": [],
   "source": [
    "#Map room types to an integer\n",
    "dict = {\n",
    "    'Shared room' : 0,\n",
    "    'Private room' : 1,\n",
    "    'Hotel room' : 2,\n",
    "    'Entire home/apt' : 3\n",
    "}\n",
    "\n",
    "#Create a new column with integers for room types\n",
    "sf['room_type_value'] = sf['room_type'].replace(dict)"
   ]
  },
  {
   "cell_type": "code",
   "execution_count": 18,
   "metadata": {},
   "outputs": [
    {
     "name": "stdout",
     "output_type": "stream",
     "text": [
      "{'Bayview': 0, 'Bernal Heights': 1, 'Castro/Upper Market': 2, 'Chinatown': 3, 'Crocker Amazon': 4, 'Diamond Heights': 5, 'Downtown/Civic Center': 6, 'Excelsior': 7, 'Financial District': 8, 'Glen Park': 9, 'Golden Gate Park': 10, 'Haight Ashbury': 11, 'Inner Richmond': 12, 'Inner Sunset': 13, 'Lakeshore': 14, 'Marina': 15, 'Mission': 16, 'Nob Hill': 17, 'Noe Valley': 18, 'North Beach': 19, 'Ocean View': 20, 'Outer Mission': 21, 'Outer Richmond': 22, 'Outer Sunset': 23, 'Pacific Heights': 24, 'Parkside': 25, 'Potrero Hill': 26, 'Presidio': 27, 'Presidio Heights': 28, 'Russian Hill': 29, 'Seacliff': 30, 'South of Market': 31, 'Treasure Island/YBI': 32, 'Twin Peaks': 33, 'Visitacion Valley': 34, 'West of Twin Peaks': 35, 'Western Addition': 36}\n"
     ]
    }
   ],
   "source": [
    "#Map neighborhoods to an integer\n",
    "neighborhood_dict = {}\n",
    "\n",
    "#Create unique list of neighborhoods\n",
    "neighborhoods = np.unique(sf['neighborhood'])\n",
    "i=0\n",
    "\n",
    "#Loop through unique neighborhoods and map to integers in a dictionary\n",
    "for n in neighborhoods:\n",
    "    neighborhood_dict[n] = i\n",
    "    i += 1\n",
    "    \n",
    "print(neighborhood_dict)\n",
    "\n",
    "#Create the new column\n",
    "sf['neighborhood_value'] = sf['neighborhood'].replace(neighborhood_dict)"
   ]
  },
  {
   "cell_type": "code",
   "execution_count": 22,
   "metadata": {},
   "outputs": [
    {
     "data": {
      "text/plain": [
       "<matplotlib.axes._subplots.AxesSubplot at 0x1a1faef5f8>"
      ]
     },
     "execution_count": 22,
     "metadata": {},
     "output_type": "execute_result"
    },
    {
     "data": {
      "image/png": "[encoded data removed]",
      "text/plain": [
       "<Figure size 648x504 with 2 Axes>"
      ]
     },
     "metadata": {},
     "output_type": "display_data"
    }
   ],
   "source": [
    "sns.set(style=\"white\")\n",
    "\n",
    "# Compute the correlation matrix\n",
    "corr = sf.corr()\n",
    "\n",
    "# Generate a mask for the upper triangle\n",
    "mask = np.zeros_like(corr, dtype=np.bool)\n",
    "mask[np.triu_indices_from(mask)] = True\n",
    "\n",
    "# Set up the matplotlib figure\n",
    "f, ax = plt.subplots(figsize=(9, 7))\n",
    "\n",
    "# Generate a custom diverging colormap\n",
    "cmap = sns.diverging_palette(220, 10, as_cmap=True)\n",
    "\n",
    "# Draw the heatmap with the mask and correct aspect ratio\n",
    "sns.heatmap(corr, mask=mask, cmap=cmap, vmax=.3, center=0,\n",
    "            square=True, linewidths=.5, cbar_kws={\"shrink\": .5})"
   ]
  },
  {
   "cell_type": "markdown",
   "metadata": {},
   "source": [
    "# Do Any Listings Violate SF Short Term Rentals Ordinance?"
   ]
  },
  {
   "cell_type": "markdown",
   "metadata": {},
   "source": [
    "San Francisco's short-term rentals ordinance has several stupilations on what Airbnb rentals can or cannot do. Here are some important details:\n",
    "\n",
    " - Short term rentals must all fall under 30 days \n",
    " - Cannot be located in The Presidio, Fort Mason, or Treasure Island\n",
    " - Short term rentals may only be rented for 90 days per calendar year\n",
    "     - There is no limit if host stays in home during the rental\n",
    "     - i.e. Limit applies if entire house/apt is rented out\n",
    " - Short term rentals must be lived-in by the host for 265 days per calendar year\n",
    " \n",
    "Source: https://businessportal.sfgov.org/start/starter-kits/short-term-rental"
   ]
  },
  {
   "cell_type": "code",
   "execution_count": null,
   "metadata": {},
   "outputs": [],
   "source": []
  }
 ],
 "metadata": {
  "kernelspec": {
   "display_name": "Python 3",
   "language": "python",
   "name": "python3"
  },
  "language_info": {
   "codemirror_mode": {
    "name": "ipython",
    "version": 3
   },
   "file_extension": ".py",
   "mimetype": "text/x-python",
   "name": "python",
   "nbconvert_exporter": "python",
   "pygments_lexer": "ipython3",
   "version": "3.7.3"
  }
 },
 "nbformat": 4,
 "nbformat_minor": 2
}
